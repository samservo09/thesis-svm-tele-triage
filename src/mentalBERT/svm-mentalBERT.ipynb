{
  "cells": [
    {
      "cell_type": "markdown",
      "source": [
        "# Modified SVM-mentalBERT Simulation"
      ],
      "metadata": {
        "id": "McP-aCy-m5-A"
      }
    },
    {
      "cell_type": "markdown",
      "source": [
        "## Text Preparation"
      ],
      "metadata": {
        "id": "DXTrCEBum9qE"
      }
    },
    {
      "cell_type": "code",
      "execution_count": null,
      "metadata": {
        "id": "Yl1--TT7mtW1"
      },
      "outputs": [],
      "source": [
        "# add required libraries\n",
        "import pandas as pd\n",
        "import numpy as np\n",
        "from nltk.tokenize import word_tokenize\n",
        "from nltk import pos_tag\n",
        "from nltk.corpus import stopwords\n",
        "from nltk.stem import WordNetLemmatizer\n",
        "from sklearn.preprocessing import LabelEncoder\n",
        "from collections import defaultdict\n",
        "from nltk.corpus import wordnet as wn\n",
        "from sklearn.feature_extraction.text import TfidfVectorizer\n",
        "from sklearn import model_selection, naive_bayes, svm\n",
        "from sklearn.metrics import accuracy_score"
      ]
    },
    {
      "cell_type": "code",
      "source": [
        "!pip install -q nltk\n",
        "import nltk\n",
        "nltk.download('punkt')\n",
        "nltk.download('wordnet')\n",
        "nltk.download('averaged_perceptron_tagger')\n",
        "nltk.download('stopwords')"
      ],
      "metadata": {
        "id": "-PrjfImMo33N"
      },
      "execution_count": null,
      "outputs": []
    },
    {
      "cell_type": "code",
      "source": [
        "# set random seed to reproduce the same result every time\n",
        "np.random.seed(500)"
      ],
      "metadata": {
        "id": "tvj9OOl1o4Hq"
      },
      "execution_count": null,
      "outputs": []
    },
    {
      "cell_type": "code",
      "source": [
        "# import the corpus\n",
        "Corpus = pd.read_csv(\"500_Reddit_users_posts_labels.csv\", encoding='latin-1')"
      ],
      "metadata": {
        "id": "WdP487V7o7-C"
      },
      "execution_count": null,
      "outputs": []
    },
    {
      "cell_type": "markdown",
      "source": [
        "## Text Vector Representation"
      ],
      "metadata": {
        "id": "WyKJOB4dnCmy"
      }
    },
    {
      "cell_type": "code",
      "source": [],
      "metadata": {
        "id": "PLlId-YnnHAg"
      },
      "execution_count": null,
      "outputs": []
    },
    {
      "cell_type": "markdown",
      "source": [
        "## MentalBERT for data imbalance"
      ],
      "metadata": {
        "id": "_TvnF7XWnHcG"
      }
    },
    {
      "cell_type": "code",
      "source": [],
      "metadata": {
        "id": "gLO4jY9nnKkb"
      },
      "execution_count": null,
      "outputs": []
    },
    {
      "cell_type": "markdown",
      "source": [
        "## MentalBERT for dimensionality reduction"
      ],
      "metadata": {
        "id": "wsqS-EmInK-M"
      }
    },
    {
      "cell_type": "code",
      "source": [],
      "metadata": {
        "id": "Odljax_vnR_t"
      },
      "execution_count": null,
      "outputs": []
    },
    {
      "cell_type": "markdown",
      "source": [
        "## Preprocessed data into SVM"
      ],
      "metadata": {
        "id": "jWLfAcjSnSl4"
      }
    },
    {
      "cell_type": "code",
      "source": [],
      "metadata": {
        "id": "XyVGow6nnYfv"
      },
      "execution_count": null,
      "outputs": []
    },
    {
      "cell_type": "markdown",
      "source": [
        "## Evaluate"
      ],
      "metadata": {
        "id": "pk2wkVyxnY7A"
      }
    },
    {
      "cell_type": "code",
      "source": [],
      "metadata": {
        "id": "swBpI7VEnZ8_"
      },
      "execution_count": null,
      "outputs": []
    },
    {
      "cell_type": "markdown",
      "source": [
        "## Hyperparameter Tuning if necessary"
      ],
      "metadata": {
        "id": "utImCWwDnbKd"
      }
    },
    {
      "cell_type": "code",
      "source": [],
      "metadata": {
        "id": "LjBHz7m0ndCR"
      },
      "execution_count": null,
      "outputs": []
    }
  ],
  "metadata": {
    "language_info": {
      "name": "python"
    },
    "colab": {
      "provenance": []
    },
    "kernelspec": {
      "name": "python3",
      "display_name": "Python 3"
    }
  },
  "nbformat": 4,
  "nbformat_minor": 0
}