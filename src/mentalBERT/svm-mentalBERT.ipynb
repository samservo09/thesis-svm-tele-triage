{
  "cells": [
    {
      "cell_type": "markdown",
      "source": [
        "# Modified SVM-mentalBERT Simulation"
      ],
      "metadata": {
        "id": "McP-aCy-m5-A"
      }
    },
    {
      "cell_type": "markdown",
      "source": [
        "## Text Processing"
      ],
      "metadata": {
        "id": "DXTrCEBum9qE"
      }
    },
    {
      "cell_type": "code",
      "execution_count": null,
      "metadata": {
        "id": "Yl1--TT7mtW1"
      },
      "outputs": [],
      "source": []
    },
    {
      "cell_type": "markdown",
      "source": [
        "## Text Vector Representation"
      ],
      "metadata": {
        "id": "WyKJOB4dnCmy"
      }
    },
    {
      "cell_type": "code",
      "source": [],
      "metadata": {
        "id": "PLlId-YnnHAg"
      },
      "execution_count": null,
      "outputs": []
    },
    {
      "cell_type": "markdown",
      "source": [
        "## MentalBERT for data imbalance"
      ],
      "metadata": {
        "id": "_TvnF7XWnHcG"
      }
    },
    {
      "cell_type": "code",
      "source": [],
      "metadata": {
        "id": "gLO4jY9nnKkb"
      },
      "execution_count": null,
      "outputs": []
    },
    {
      "cell_type": "markdown",
      "source": [
        "## MentalBERT for dimensionality reduction"
      ],
      "metadata": {
        "id": "wsqS-EmInK-M"
      }
    },
    {
      "cell_type": "code",
      "source": [],
      "metadata": {
        "id": "Odljax_vnR_t"
      },
      "execution_count": null,
      "outputs": []
    },
    {
      "cell_type": "markdown",
      "source": [
        "## Preprocessed data into SVM"
      ],
      "metadata": {
        "id": "jWLfAcjSnSl4"
      }
    },
    {
      "cell_type": "code",
      "source": [],
      "metadata": {
        "id": "XyVGow6nnYfv"
      },
      "execution_count": null,
      "outputs": []
    },
    {
      "cell_type": "markdown",
      "source": [
        "## Evaluate"
      ],
      "metadata": {
        "id": "pk2wkVyxnY7A"
      }
    },
    {
      "cell_type": "code",
      "source": [],
      "metadata": {
        "id": "swBpI7VEnZ8_"
      },
      "execution_count": null,
      "outputs": []
    },
    {
      "cell_type": "markdown",
      "source": [
        "## Hyperparameter Tuning if necessary"
      ],
      "metadata": {
        "id": "utImCWwDnbKd"
      }
    },
    {
      "cell_type": "code",
      "source": [],
      "metadata": {
        "id": "LjBHz7m0ndCR"
      },
      "execution_count": null,
      "outputs": []
    }
  ],
  "metadata": {
    "language_info": {
      "name": "python"
    },
    "colab": {
      "provenance": []
    },
    "kernelspec": {
      "name": "python3",
      "display_name": "Python 3"
    }
  },
  "nbformat": 4,
  "nbformat_minor": 0
}